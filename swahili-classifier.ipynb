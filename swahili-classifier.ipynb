{
 "cells": [
  {
   "cell_type": "code",
   "execution_count": 1,
   "id": "covered-longitude",
   "metadata": {
    "_cell_guid": "b1076dfc-b9ad-4769-8c92-a6c4dae69d19",
    "_uuid": "8f2839f25d086af736a60e9eeb907d3b93b6e0e5",
    "execution": {
     "iopub.execute_input": "2021-04-29T15:07:32.175845Z",
     "iopub.status.busy": "2021-04-29T15:07:32.174266Z",
     "iopub.status.idle": "2021-04-29T15:07:32.195255Z",
     "shell.execute_reply": "2021-04-29T15:07:32.194460Z"
    },
    "papermill": {
     "duration": 0.044647,
     "end_time": "2021-04-29T15:07:32.195463",
     "exception": false,
     "start_time": "2021-04-29T15:07:32.150816",
     "status": "completed"
    },
    "tags": []
   },
   "outputs": [
    {
     "name": "stdout",
     "output_type": "stream",
     "text": [
      "/kaggle/input/nlpswahili/SampleSubmission.csv\n",
      "/kaggle/input/nlpswahili/Train.csv\n",
      "/kaggle/input/nlpswahili/VariableDefinitions.csv\n",
      "/kaggle/input/nlpswahili/Test.csv\n"
     ]
    }
   ],
   "source": [
    "# This Python 3 environment comes with many helpful analytics libraries installed\n",
    "# It is defined by the kaggle/python Docker image: https://github.com/kaggle/docker-python\n",
    "# For example, here's several helpful packages to load\n",
    "\n",
    "import numpy as np # linear algebra\n",
    "import pandas as pd # data processing, CSV file I/O (e.g. pd.read_csv)\n",
    "\n",
    "# Input data files are available in the read-only \"../input/\" directory\n",
    "# For example, running this (by clicking run or pressing Shift+Enter) will list all files under the input directory\n",
    "\n",
    "import os\n",
    "for dirname, _, filenames in os.walk('/kaggle/input'):\n",
    "    for filename in filenames:\n",
    "        print(os.path.join(dirname, filename))\n",
    "\n",
    "# You can write up to 20GB to the current directory (/kaggle/working/) that gets preserved as output when you create a version using \"Save & Run All\" \n",
    "# You can also write temporary files to /kaggle/temp/, but they won't be saved outside of the current session"
   ]
  },
  {
   "cell_type": "code",
   "execution_count": 2,
   "id": "thirty-split",
   "metadata": {
    "execution": {
     "iopub.execute_input": "2021-04-29T15:07:32.238250Z",
     "iopub.status.busy": "2021-04-29T15:07:32.237700Z",
     "iopub.status.idle": "2021-04-29T15:07:38.105607Z",
     "shell.execute_reply": "2021-04-29T15:07:38.105037Z"
    },
    "papermill": {
     "duration": 5.890063,
     "end_time": "2021-04-29T15:07:38.105738",
     "exception": false,
     "start_time": "2021-04-29T15:07:32.215675",
     "status": "completed"
    },
    "tags": []
   },
   "outputs": [],
   "source": [
    "from fastai.text.all import *\n",
    "import pandas as pd\n",
    "import numpy as np"
   ]
  },
  {
   "cell_type": "code",
   "execution_count": 3,
   "id": "sacred-admission",
   "metadata": {
    "execution": {
     "iopub.execute_input": "2021-04-29T15:07:38.150668Z",
     "iopub.status.busy": "2021-04-29T15:07:38.150078Z",
     "iopub.status.idle": "2021-04-29T15:07:38.384080Z",
     "shell.execute_reply": "2021-04-29T15:07:38.383597Z"
    },
    "papermill": {
     "duration": 0.259062,
     "end_time": "2021-04-29T15:07:38.384215",
     "exception": false,
     "start_time": "2021-04-29T15:07:38.125153",
     "status": "completed"
    },
    "tags": []
   },
   "outputs": [
    {
     "data": {
      "text/html": [
       "<div>\n",
       "<style scoped>\n",
       "    .dataframe tbody tr th:only-of-type {\n",
       "        vertical-align: middle;\n",
       "    }\n",
       "\n",
       "    .dataframe tbody tr th {\n",
       "        vertical-align: top;\n",
       "    }\n",
       "\n",
       "    .dataframe thead th {\n",
       "        text-align: right;\n",
       "    }\n",
       "</style>\n",
       "<table border=\"1\" class=\"dataframe\">\n",
       "  <thead>\n",
       "    <tr style=\"text-align: right;\">\n",
       "      <th></th>\n",
       "      <th>id</th>\n",
       "      <th>content</th>\n",
       "      <th>category</th>\n",
       "    </tr>\n",
       "  </thead>\n",
       "  <tbody>\n",
       "    <tr>\n",
       "      <th>0</th>\n",
       "      <td>SW0</td>\n",
       "      <td>SERIKALI imesema haitakuwa tayari kuona amani na utulivu wa nchi inachezewa huku ikisisitiza uwepo wa umoja kati ya wananchi bila kujali tofauti ya imani, kabila au itikadi yoyote.Hayo yalisemwa na Naibu Waziri wa Mambo ya Ndani ya Nchi, Hamad Yussuf Masauni wakati akifungua semina ya siku mbili iliyofanyika jijini Dar es Salaam ikiwahusisha viongozi wa taasisi za Kiislamu, lengo ikiwa ni kuwakumbusha kuhubiri amani katika sehemu zao.Naibu Waziri amesema mwelekeo na malengo ya Serikali ya Awamu ya Tano ni kukuza maendeleo katika sehemu mbalimbali nchini lengo ikiwa kuinua maisha ya wananc...</td>\n",
       "      <td>Kitaifa</td>\n",
       "    </tr>\n",
       "    <tr>\n",
       "      <th>1</th>\n",
       "      <td>SW1</td>\n",
       "      <td>Mkuu wa Mkoa wa Tabora, Aggrey Mwanri amesitisha likizo za viongozi wote mkoani humo kutekeleza maazimio ya Jukwaa la Fursa za Biashara la mkoa huo.Mwanri ameagiza kuwa, hata kama kuna likizo zimeidhinishwa zifutwe.Amemuagiza Katibu Tawala wa Mkoa huo, Msalika Makungu kuandika barua kwa viongozi kuhusu uamuzi huo na amebainisha kuwa hakushauriwa na mtu, kaamua yeye.“Anayebisha anyooshe mkono, ajifanye angalau anajikuna tu” amesema Mwanri kwenye jukwaa hilo la nane lililomalizika leo.Amewaeleza viongozi wa Tabora kuwa, mambo waliyopanga kuyafanya wakati wa likizo nje ya Tabora wanaweza kuy...</td>\n",
       "      <td>Biashara</td>\n",
       "    </tr>\n",
       "    <tr>\n",
       "      <th>2</th>\n",
       "      <td>SW10</td>\n",
       "      <td>SERIKALI imetoa miezi sita kwa taasisi zote za umma ambazo hazitumii mfumo wa GePG katika ukusanyaji wa fedha kufanya hivyo na baada ya hapo itafanya ukaguzi na kuwawajibisha maofi sa masuhuli walioshindwa kutekeleza hilo.Akifungua mkutano wa mwaka wa kwanza wa watumiaji wa mfumo huo jana jijini hapa, Naibu Katibu Mkuu Wizara ya Fedha na Mipango, Dk Hartibu Kazungu alisema ukaguzi huo ambao utaanza kufanyika Juni mwakani baada ya kipindi kilichowekwa kupita ili kuwabaini maofisa wazembe.Alisema, wizara yake itafanya ukaguzi wa ofisi zote za umma ili kubaini kama kuna fedha zinazokusanywa ...</td>\n",
       "      <td>Kitaifa</td>\n",
       "    </tr>\n",
       "    <tr>\n",
       "      <th>3</th>\n",
       "      <td>SW100</td>\n",
       "      <td>KAMPUNI ya mchezo wa kubahatisha ya M-bet imeingia makubaliano ya udhamini na timu ya soka ya Manispaa ya Kinondoni (KMC) kwa miaka mitano wenye thamani ya sh Bilioni 1.Akizungumzia udhamini huo jana baada ya kusaini mkataba huo, Meneja Masoko wa Mbet, Allen Mushi alisema sababu ya kuiunga mkono timu hiyo ni baada ya kuvutiwa na kiwango bora walichokionesha timu hiyo tangu msimu uliopita. Alisema kitendo cha kumaliza ligi katika nafasi ya nne bora sio cha mchezo na kwamba hata wanapokuwa uwanjani hucheza soka la kuvutia tofauti na wengine.“Tumeichagua KMC kwasababu tumevutiwa na mambo men...</td>\n",
       "      <td>michezo</td>\n",
       "    </tr>\n",
       "    <tr>\n",
       "      <th>4</th>\n",
       "      <td>SW1000</td>\n",
       "      <td>WATANZANIA wamekumbushwa kusherehekea sikukuu ya Krismasi kwa kuenzi amani, umoja na kulinda tamaduni za nchi ili kupambana na changamoto mbalimbali zinazojitokeza, ikiwemo vitendo vya ushoga na matumizi ya dawa za kulevya.Akizungumza wakati wa kutoa heri ya sikukuu hiyo ya Kuzaliwa Yesu Kristo, Kiongozi wa Waislamu wa madhehebu ya Shia Ithnasheriya, Shehe Hemed Jalala alisema kuzaliwa kwa Yesu kunalenga kuhubiri na kutangaza amani ulimwenguni. Shehe Jalala alisema licha ya Wayahudi kutilia shaka kuzaliwa kwa Yesu, lakini pindi alipozaliwa alitangaza amani kwake na duniani kote akitaka ki...</td>\n",
       "      <td>Kitaifa</td>\n",
       "    </tr>\n",
       "  </tbody>\n",
       "</table>\n",
       "</div>"
      ],
      "text/plain": [
       "       id  \\\n",
       "0     SW0   \n",
       "1     SW1   \n",
       "2    SW10   \n",
       "3   SW100   \n",
       "4  SW1000   \n",
       "\n",
       "                                                                                                                                                                                                                                                                                                                                                                                                                                                                                                                                                                                                                   content  \\\n",
       "0   SERIKALI imesema haitakuwa tayari kuona amani na utulivu wa nchi inachezewa huku ikisisitiza uwepo wa umoja kati ya wananchi bila kujali tofauti ya imani, kabila au itikadi yoyote.Hayo yalisemwa na Naibu Waziri wa Mambo ya Ndani ya Nchi, Hamad Yussuf Masauni wakati akifungua semina ya siku mbili iliyofanyika jijini Dar es Salaam ikiwahusisha viongozi wa taasisi za Kiislamu, lengo ikiwa ni kuwakumbusha kuhubiri amani katika sehemu zao.Naibu Waziri amesema mwelekeo na malengo ya Serikali ya Awamu ya Tano ni kukuza maendeleo katika sehemu mbalimbali nchini lengo ikiwa kuinua maisha ya wananc...   \n",
       "1   Mkuu wa Mkoa wa Tabora, Aggrey Mwanri amesitisha likizo za viongozi wote mkoani humo kutekeleza maazimio ya Jukwaa la Fursa za Biashara la mkoa huo.Mwanri ameagiza kuwa, hata kama kuna likizo zimeidhinishwa zifutwe.Amemuagiza Katibu Tawala wa Mkoa huo, Msalika Makungu kuandika barua kwa viongozi kuhusu uamuzi huo na amebainisha kuwa hakushauriwa na mtu, kaamua yeye.“Anayebisha anyooshe mkono, ajifanye angalau anajikuna tu” amesema Mwanri kwenye jukwaa hilo la nane lililomalizika leo.Amewaeleza viongozi wa Tabora kuwa, mambo waliyopanga kuyafanya wakati wa likizo nje ya Tabora wanaweza kuy...   \n",
       "2   SERIKALI imetoa miezi sita kwa taasisi zote za umma ambazo hazitumii mfumo wa GePG katika ukusanyaji wa fedha kufanya hivyo na baada ya hapo itafanya ukaguzi na kuwawajibisha maofi sa masuhuli walioshindwa kutekeleza hilo.Akifungua mkutano wa mwaka wa kwanza wa watumiaji wa mfumo huo jana jijini hapa, Naibu Katibu Mkuu Wizara ya Fedha na Mipango, Dk Hartibu Kazungu alisema ukaguzi huo ambao utaanza kufanyika Juni mwakani baada ya kipindi kilichowekwa kupita ili kuwabaini maofisa wazembe.Alisema, wizara yake itafanya ukaguzi wa ofisi zote za umma ili kubaini kama kuna fedha zinazokusanywa ...   \n",
       "3   KAMPUNI ya mchezo wa kubahatisha ya M-bet imeingia makubaliano ya udhamini na timu ya soka ya Manispaa ya Kinondoni (KMC) kwa miaka mitano wenye thamani ya sh Bilioni 1.Akizungumzia udhamini huo jana baada ya kusaini mkataba huo, Meneja Masoko wa Mbet, Allen Mushi alisema sababu ya kuiunga mkono timu hiyo ni baada ya kuvutiwa na kiwango bora walichokionesha timu hiyo tangu msimu uliopita. Alisema kitendo cha kumaliza ligi katika nafasi ya nne bora sio cha mchezo na kwamba hata wanapokuwa uwanjani hucheza soka la kuvutia tofauti na wengine.“Tumeichagua KMC kwasababu tumevutiwa na mambo men...   \n",
       "4   WATANZANIA wamekumbushwa kusherehekea sikukuu ya Krismasi kwa kuenzi amani, umoja na kulinda tamaduni za nchi ili kupambana na changamoto mbalimbali zinazojitokeza, ikiwemo vitendo vya ushoga na matumizi ya dawa za kulevya.Akizungumza wakati wa kutoa heri ya sikukuu hiyo ya Kuzaliwa Yesu Kristo, Kiongozi wa Waislamu wa madhehebu ya Shia Ithnasheriya, Shehe Hemed Jalala alisema kuzaliwa kwa Yesu kunalenga kuhubiri na kutangaza amani ulimwenguni. Shehe Jalala alisema licha ya Wayahudi kutilia shaka kuzaliwa kwa Yesu, lakini pindi alipozaliwa alitangaza amani kwake na duniani kote akitaka ki...   \n",
       "\n",
       "   category  \n",
       "0   Kitaifa  \n",
       "1  Biashara  \n",
       "2   Kitaifa  \n",
       "3   michezo  \n",
       "4   Kitaifa  "
      ]
     },
     "execution_count": 3,
     "metadata": {},
     "output_type": "execute_result"
    }
   ],
   "source": [
    "df = pd.read_csv(\"../input/nlpswahili/Train.csv\")\n",
    "df.head()"
   ]
  },
  {
   "cell_type": "code",
   "execution_count": 4,
   "id": "binding-delaware",
   "metadata": {
    "execution": {
     "iopub.execute_input": "2021-04-29T15:07:38.430515Z",
     "iopub.status.busy": "2021-04-29T15:07:38.429709Z",
     "iopub.status.idle": "2021-04-29T15:07:38.433113Z",
     "shell.execute_reply": "2021-04-29T15:07:38.433495Z"
    },
    "papermill": {
     "duration": 0.029449,
     "end_time": "2021-04-29T15:07:38.433645",
     "exception": false,
     "start_time": "2021-04-29T15:07:38.404196",
     "status": "completed"
    },
    "tags": []
   },
   "outputs": [
    {
     "data": {
      "text/plain": [
       "array(['Kitaifa', 'Biashara', 'michezo', 'Kimataifa', 'Burudani'],\n",
       "      dtype=object)"
      ]
     },
     "execution_count": 4,
     "metadata": {},
     "output_type": "execute_result"
    }
   ],
   "source": [
    "df['category'].unique()"
   ]
  },
  {
   "cell_type": "code",
   "execution_count": 5,
   "id": "solar-school",
   "metadata": {
    "execution": {
     "iopub.execute_input": "2021-04-29T15:07:38.478396Z",
     "iopub.status.busy": "2021-04-29T15:07:38.477828Z",
     "iopub.status.idle": "2021-04-29T15:07:38.538182Z",
     "shell.execute_reply": "2021-04-29T15:07:38.538582Z"
    },
    "papermill": {
     "duration": 0.08541,
     "end_time": "2021-04-29T15:07:38.538738",
     "exception": false,
     "start_time": "2021-04-29T15:07:38.453328",
     "status": "completed"
    },
    "tags": []
   },
   "outputs": [
    {
     "data": {
      "text/html": [
       "<div>\n",
       "<style scoped>\n",
       "    .dataframe tbody tr th:only-of-type {\n",
       "        vertical-align: middle;\n",
       "    }\n",
       "\n",
       "    .dataframe tbody tr th {\n",
       "        vertical-align: top;\n",
       "    }\n",
       "\n",
       "    .dataframe thead th {\n",
       "        text-align: right;\n",
       "    }\n",
       "</style>\n",
       "<table border=\"1\" class=\"dataframe\">\n",
       "  <thead>\n",
       "    <tr style=\"text-align: right;\">\n",
       "      <th></th>\n",
       "      <th>swahili_id</th>\n",
       "      <th>content</th>\n",
       "    </tr>\n",
       "  </thead>\n",
       "  <tbody>\n",
       "    <tr>\n",
       "      <th>0</th>\n",
       "      <td>001dd47ac202d9db6624a5ff734a5e7dddafeaf2</td>\n",
       "      <td>MKUU wa Wilaya ya Bahi, Mkoani Dodoma, Mwanahamisi Munkunda ameuagiza uongozi wa halmashauri ya wilaya hiyo na kamati zote za usimaminzi wa ujenzi wa mradi wa hospitali yao kukamilisha ujenzi Mei 30, mwaka huu.Alitoa agizo hilo mwishoni mwa wiki Wakati akizindua eneo itakapokengwa hospitali hiyo. Alisema kutokana na maandalizi yote ya msingi ikiwemo ununuzi wa vifaa vya ujenzi (bati, nondo,mchanga) kukamilika, hakuna sababu inayoweza kukwamisha ujenzi huo. “ Nataka mradi huu kukamilika Mei 30, mwaka huu, kutokana na vifaa vyote kukamilika. Tuwe tumekamilisha majengo yote saba,” alisema.Al...</td>\n",
       "    </tr>\n",
       "    <tr>\n",
       "      <th>1</th>\n",
       "      <td>0043d97f7690e9bc02f0ed8bb2b260d1d44bad92</td>\n",
       "      <td>MWISHONI mwa wiki hii, Timu ya Soka ya Taifa, Taifa Stars itakuwa na kibarua kizito dhidi ya Sudan, katika mechi ya kuwania kufuzu Fainali za Michuano ya Afrika kwa wachezaji wa ndani, Chan.Katika harakati za kujiandaa na mechi hiyo, Stars juzi ilicheza mechi ya kirafiki na Rwanda mjini Kigali na kutoka suluhu. Matokeo hayo yanaonekana kumridhisha kocha wa timu hiyo, Etienne Ndayiragije na kusema amepata kipimo sahihi kabla ya kucheza na Sudan mechi ambayo Stars inahitaji ushindi wa kuanzia mabao mawili kusonga mbele baada ya kupoteza mechi ya nyumbani kwa bao 1-0.Ndayiragije alisema wali...</td>\n",
       "    </tr>\n",
       "    <tr>\n",
       "      <th>2</th>\n",
       "      <td>00579c2307b5c11003d21c40c3ecff5e922c3fd8</td>\n",
       "      <td>THAMANI ya mauzo ya bidhaa za Afrika Mashariki katika Umoja wa Ulaya (EU) yameongezeka hadi Dola za Marekani bilioni 2.5 (Sh trilioni 5.2 za Tanzania) mwaka 2017, sawa na ongezeko la asilimia nane.Taarifa hiyo ni kwa mujibu wa Kituo cha Biashara cha Kimataifa (ITC).Kwa mujibu wa ITC, bidhaa kutoka ukanda huo zilizouzwa Ulaya kwa mwaka 2016 zilikuwa na thamani ya Dola milioni 2.3 (Sh trilioni 4.83 za Tanzania), hivyo kumekuwa na ongezeko la takribani Sh bilioni 400. Mkurugenzi wa Sekta ya Uzalishaji ya EAC, Jean Baptiste, amesema hivi karibuni jijini Arusha yalipo makao makuu ya jumuiya hi...</td>\n",
       "    </tr>\n",
       "    <tr>\n",
       "      <th>3</th>\n",
       "      <td>00868eeee349e286303706ef0ffd851f39708d37</td>\n",
       "      <td>MENEJA Mawasiliano na Utetezi wa asasi ya AGPAHI amefariki dunia gafla baada ya kuanguka akiwa katika shughuli zake za kikazi huko Kahama, Shinyanga leo. AGPAHI ni asasi ya kiraia inayojishughulisha na mapambano dhidi ya maambukizi ya Virusi vya Ukimwi na kuboresha maisha ya watoto na familia kwa ujumla. Mkurugenzi wa Shirika hilo, Sekela Mwakyusa amelithibitishia gazeti la HabariLeo, toleo la mtandaoni kuwa, mwandishi huyo wa zamani alijisikia vibaya jana, Alhamisi lakini hali yake ilirejea kawaida.Ameongeza leo asubuhi Agnes aliulizwa iwapo ataenda hospitalini kwa matibabu zaidi lakini ...</td>\n",
       "    </tr>\n",
       "    <tr>\n",
       "      <th>4</th>\n",
       "      <td>00a5cb12d3058dcf2e42f277eee599992db32412</td>\n",
       "      <td>WAZIRI wa Kilimo, Japhet Hasunga amesema serikali inajenga kiwanda cha kuchakata mazao ya korosho (mabibo) ili kuzalisha, kutengeneza juisi na mvinyo Naliendele Mtwara.Waziri Hasunga alitoa kauli hiyo wakati akijibu swali la nyongeza la Mbunge wa Ndanda, Cecily Mwambe (Chadema), aliyetaka kujua utafiti wa kuongeza thamani mazao ya korosho (mabibo) umefikia wapi na lini juisi na mvinyo zitaanza kutengenezwa katika Kituo cha Utafiti Kilimo cha Naliendele (NARI) Mtwara.Hasunga alisema ni kweli utafiti wa kina ulifanyika kuhusu namna ya kuongeza thamani mazao ya korosho (mabibo) ili kutengene...</td>\n",
       "    </tr>\n",
       "  </tbody>\n",
       "</table>\n",
       "</div>"
      ],
      "text/plain": [
       "                                 swahili_id  \\\n",
       "0  001dd47ac202d9db6624a5ff734a5e7dddafeaf2   \n",
       "1  0043d97f7690e9bc02f0ed8bb2b260d1d44bad92   \n",
       "2  00579c2307b5c11003d21c40c3ecff5e922c3fd8   \n",
       "3  00868eeee349e286303706ef0ffd851f39708d37   \n",
       "4  00a5cb12d3058dcf2e42f277eee599992db32412   \n",
       "\n",
       "                                                                                                                                                                                                                                                                                                                                                                                                                                                                                                                                                                                                                   content  \n",
       "0   MKUU wa Wilaya ya Bahi, Mkoani Dodoma, Mwanahamisi Munkunda ameuagiza uongozi wa halmashauri ya wilaya hiyo na kamati zote za usimaminzi wa ujenzi wa mradi wa hospitali yao kukamilisha ujenzi Mei 30, mwaka huu.Alitoa agizo hilo mwishoni mwa wiki Wakati akizindua eneo itakapokengwa hospitali hiyo. Alisema kutokana na maandalizi yote ya msingi ikiwemo ununuzi wa vifaa vya ujenzi (bati, nondo,mchanga) kukamilika, hakuna sababu inayoweza kukwamisha ujenzi huo. “ Nataka mradi huu kukamilika Mei 30, mwaka huu, kutokana na vifaa vyote kukamilika. Tuwe tumekamilisha majengo yote saba,” alisema.Al...  \n",
       "1   MWISHONI mwa wiki hii, Timu ya Soka ya Taifa, Taifa Stars itakuwa na kibarua kizito dhidi ya Sudan, katika mechi ya kuwania kufuzu Fainali za Michuano ya Afrika kwa wachezaji wa ndani, Chan.Katika harakati za kujiandaa na mechi hiyo, Stars juzi ilicheza mechi ya kirafiki na Rwanda mjini Kigali na kutoka suluhu. Matokeo hayo yanaonekana kumridhisha kocha wa timu hiyo, Etienne Ndayiragije na kusema amepata kipimo sahihi kabla ya kucheza na Sudan mechi ambayo Stars inahitaji ushindi wa kuanzia mabao mawili kusonga mbele baada ya kupoteza mechi ya nyumbani kwa bao 1-0.Ndayiragije alisema wali...  \n",
       "2   THAMANI ya mauzo ya bidhaa za Afrika Mashariki katika Umoja wa Ulaya (EU) yameongezeka hadi Dola za Marekani bilioni 2.5 (Sh trilioni 5.2 za Tanzania) mwaka 2017, sawa na ongezeko la asilimia nane.Taarifa hiyo ni kwa mujibu wa Kituo cha Biashara cha Kimataifa (ITC).Kwa mujibu wa ITC, bidhaa kutoka ukanda huo zilizouzwa Ulaya kwa mwaka 2016 zilikuwa na thamani ya Dola milioni 2.3 (Sh trilioni 4.83 za Tanzania), hivyo kumekuwa na ongezeko la takribani Sh bilioni 400. Mkurugenzi wa Sekta ya Uzalishaji ya EAC, Jean Baptiste, amesema hivi karibuni jijini Arusha yalipo makao makuu ya jumuiya hi...  \n",
       "3   MENEJA Mawasiliano na Utetezi wa asasi ya AGPAHI amefariki dunia gafla baada ya kuanguka akiwa katika shughuli zake za kikazi huko Kahama, Shinyanga leo. AGPAHI ni asasi ya kiraia inayojishughulisha na mapambano dhidi ya maambukizi ya Virusi vya Ukimwi na kuboresha maisha ya watoto na familia kwa ujumla. Mkurugenzi wa Shirika hilo, Sekela Mwakyusa amelithibitishia gazeti la HabariLeo, toleo la mtandaoni kuwa, mwandishi huyo wa zamani alijisikia vibaya jana, Alhamisi lakini hali yake ilirejea kawaida.Ameongeza leo asubuhi Agnes aliulizwa iwapo ataenda hospitalini kwa matibabu zaidi lakini ...  \n",
       "4   WAZIRI wa Kilimo, Japhet Hasunga amesema serikali inajenga kiwanda cha kuchakata mazao ya korosho (mabibo) ili kuzalisha, kutengeneza juisi na mvinyo Naliendele Mtwara.Waziri Hasunga alitoa kauli hiyo wakati akijibu swali la nyongeza la Mbunge wa Ndanda, Cecily Mwambe (Chadema), aliyetaka kujua utafiti wa kuongeza thamani mazao ya korosho (mabibo) umefikia wapi na lini juisi na mvinyo zitaanza kutengenezwa katika Kituo cha Utafiti Kilimo cha Naliendele (NARI) Mtwara.Hasunga alisema ni kweli utafiti wa kina ulifanyika kuhusu namna ya kuongeza thamani mazao ya korosho (mabibo) ili kutengene...  "
      ]
     },
     "execution_count": 5,
     "metadata": {},
     "output_type": "execute_result"
    }
   ],
   "source": [
    "test = pd.read_csv('../input/nlpswahili/Test.csv')\n",
    "test.head()"
   ]
  },
  {
   "cell_type": "code",
   "execution_count": 6,
   "id": "separated-personality",
   "metadata": {
    "execution": {
     "iopub.execute_input": "2021-04-29T15:07:38.585471Z",
     "iopub.status.busy": "2021-04-29T15:07:38.584924Z",
     "iopub.status.idle": "2021-04-29T15:07:38.587965Z",
     "shell.execute_reply": "2021-04-29T15:07:38.587523Z"
    },
    "papermill": {
     "duration": 0.029526,
     "end_time": "2021-04-29T15:07:38.588090",
     "exception": false,
     "start_time": "2021-04-29T15:07:38.558564",
     "status": "completed"
    },
    "tags": []
   },
   "outputs": [],
   "source": [
    "concat = pd.concat([df,test], sort=False)"
   ]
  },
  {
   "cell_type": "code",
   "execution_count": 7,
   "id": "isolated-labor",
   "metadata": {
    "execution": {
     "iopub.execute_input": "2021-04-29T15:07:38.631010Z",
     "iopub.status.busy": "2021-04-29T15:07:38.630364Z",
     "iopub.status.idle": "2021-04-29T15:08:25.242722Z",
     "shell.execute_reply": "2021-04-29T15:08:25.242261Z"
    },
    "papermill": {
     "duration": 46.63535,
     "end_time": "2021-04-29T15:08:25.242855",
     "exception": false,
     "start_time": "2021-04-29T15:07:38.607505",
     "status": "completed"
    },
    "tags": []
   },
   "outputs": [
    {
     "data": {
      "text/html": [],
      "text/plain": [
       "<IPython.core.display.HTML object>"
      ]
     },
     "metadata": {},
     "output_type": "display_data"
    },
    {
     "name": "stderr",
     "output_type": "stream",
     "text": [
      "/opt/conda/lib/python3.7/site-packages/numpy/core/_asarray.py:83: VisibleDeprecationWarning: Creating an ndarray from ragged nested sequences (which is a list-or-tuple of lists-or-tuples-or ndarrays with different lengths or shapes) is deprecated. If you meant to do this, you must specify 'dtype=object' when creating the ndarray\n",
      "  return array(a, dtype, copy=False, order=order)\n"
     ]
    }
   ],
   "source": [
    "data_lm = TextDataLoaders.from_df(concat, text_col='content', is_lm=True, valid_pct=0.2)"
   ]
  },
  {
   "cell_type": "code",
   "execution_count": 8,
   "id": "selective-monster",
   "metadata": {
    "execution": {
     "iopub.execute_input": "2021-04-29T15:08:25.294237Z",
     "iopub.status.busy": "2021-04-29T15:08:25.293610Z",
     "iopub.status.idle": "2021-04-29T15:08:30.366120Z",
     "shell.execute_reply": "2021-04-29T15:08:30.365114Z"
    },
    "papermill": {
     "duration": 5.101063,
     "end_time": "2021-04-29T15:08:30.366286",
     "exception": false,
     "start_time": "2021-04-29T15:08:25.265223",
     "status": "completed"
    },
    "tags": []
   },
   "outputs": [
    {
     "data": {
      "text/html": [],
      "text/plain": [
       "<IPython.core.display.HTML object>"
      ]
     },
     "metadata": {},
     "output_type": "display_data"
    }
   ],
   "source": [
    "# create and train language model\n",
    "learn = language_model_learner(data_lm, AWD_LSTM, metrics=[accuracy, Perplexity()], wd=0.1).to_fp16()\n"
   ]
  },
  {
   "cell_type": "code",
   "execution_count": 9,
   "id": "outdoor-necklace",
   "metadata": {
    "execution": {
     "iopub.execute_input": "2021-04-29T15:08:30.418636Z",
     "iopub.status.busy": "2021-04-29T15:08:30.417881Z",
     "iopub.status.idle": "2021-04-29T15:10:34.917805Z",
     "shell.execute_reply": "2021-04-29T15:10:34.917219Z"
    },
    "papermill": {
     "duration": 124.527196,
     "end_time": "2021-04-29T15:10:34.917972",
     "exception": false,
     "start_time": "2021-04-29T15:08:30.390776",
     "status": "completed"
    },
    "tags": []
   },
   "outputs": [
    {
     "data": {
      "text/html": [
       "<table border=\"1\" class=\"dataframe\">\n",
       "  <thead>\n",
       "    <tr style=\"text-align: left;\">\n",
       "      <th>epoch</th>\n",
       "      <th>train_loss</th>\n",
       "      <th>valid_loss</th>\n",
       "      <th>accuracy</th>\n",
       "      <th>perplexity</th>\n",
       "      <th>time</th>\n",
       "    </tr>\n",
       "  </thead>\n",
       "  <tbody>\n",
       "    <tr>\n",
       "      <td>0</td>\n",
       "      <td>4.829026</td>\n",
       "      <td>4.567891</td>\n",
       "      <td>0.291695</td>\n",
       "      <td>96.340721</td>\n",
       "      <td>02:04</td>\n",
       "    </tr>\n",
       "  </tbody>\n",
       "</table>"
      ],
      "text/plain": [
       "<IPython.core.display.HTML object>"
      ]
     },
     "metadata": {},
     "output_type": "display_data"
    }
   ],
   "source": [
    "learn.fit_one_cycle(1, 1e-2)"
   ]
  },
  {
   "cell_type": "code",
   "execution_count": 10,
   "id": "indian-software",
   "metadata": {
    "execution": {
     "iopub.execute_input": "2021-04-29T15:10:34.979472Z",
     "iopub.status.busy": "2021-04-29T15:10:34.978693Z",
     "iopub.status.idle": "2021-04-29T15:10:35.865949Z",
     "shell.execute_reply": "2021-04-29T15:10:35.866494Z"
    },
    "papermill": {
     "duration": 0.920498,
     "end_time": "2021-04-29T15:10:35.866671",
     "exception": false,
     "start_time": "2021-04-29T15:10:34.946173",
     "status": "completed"
    },
    "tags": []
   },
   "outputs": [
    {
     "data": {
      "text/plain": [
       "Path('models/1epoch.pth')"
      ]
     },
     "execution_count": 10,
     "metadata": {},
     "output_type": "execute_result"
    }
   ],
   "source": [
    "learn.save('1epoch')"
   ]
  },
  {
   "cell_type": "code",
   "execution_count": 11,
   "id": "continuing-equation",
   "metadata": {
    "execution": {
     "iopub.execute_input": "2021-04-29T15:10:35.929448Z",
     "iopub.status.busy": "2021-04-29T15:10:35.928393Z",
     "iopub.status.idle": "2021-04-29T15:10:36.102987Z",
     "shell.execute_reply": "2021-04-29T15:10:36.102424Z"
    },
    "papermill": {
     "duration": 0.210156,
     "end_time": "2021-04-29T15:10:36.103167",
     "exception": false,
     "start_time": "2021-04-29T15:10:35.893011",
     "status": "completed"
    },
    "tags": []
   },
   "outputs": [],
   "source": [
    "learn = learn.load('1epoch')"
   ]
  },
  {
   "cell_type": "code",
   "execution_count": 12,
   "id": "ongoing-association",
   "metadata": {
    "execution": {
     "iopub.execute_input": "2021-04-29T15:10:36.161655Z",
     "iopub.status.busy": "2021-04-29T15:10:36.160659Z",
     "iopub.status.idle": "2021-04-29T15:33:08.319505Z",
     "shell.execute_reply": "2021-04-29T15:33:08.319012Z"
    },
    "papermill": {
     "duration": 1352.189643,
     "end_time": "2021-04-29T15:33:08.319645",
     "exception": false,
     "start_time": "2021-04-29T15:10:36.130002",
     "status": "completed"
    },
    "tags": []
   },
   "outputs": [
    {
     "data": {
      "text/html": [
       "<table border=\"1\" class=\"dataframe\">\n",
       "  <thead>\n",
       "    <tr style=\"text-align: left;\">\n",
       "      <th>epoch</th>\n",
       "      <th>train_loss</th>\n",
       "      <th>valid_loss</th>\n",
       "      <th>accuracy</th>\n",
       "      <th>perplexity</th>\n",
       "      <th>time</th>\n",
       "    </tr>\n",
       "  </thead>\n",
       "  <tbody>\n",
       "    <tr>\n",
       "      <td>0</td>\n",
       "      <td>4.450984</td>\n",
       "      <td>4.315776</td>\n",
       "      <td>0.311023</td>\n",
       "      <td>74.871727</td>\n",
       "      <td>02:19</td>\n",
       "    </tr>\n",
       "    <tr>\n",
       "      <td>1</td>\n",
       "      <td>4.155367</td>\n",
       "      <td>4.039202</td>\n",
       "      <td>0.330021</td>\n",
       "      <td>56.780998</td>\n",
       "      <td>02:18</td>\n",
       "    </tr>\n",
       "    <tr>\n",
       "      <td>2</td>\n",
       "      <td>3.908984</td>\n",
       "      <td>3.825345</td>\n",
       "      <td>0.348053</td>\n",
       "      <td>45.848618</td>\n",
       "      <td>02:18</td>\n",
       "    </tr>\n",
       "    <tr>\n",
       "      <td>3</td>\n",
       "      <td>3.713773</td>\n",
       "      <td>3.696529</td>\n",
       "      <td>0.358265</td>\n",
       "      <td>40.307159</td>\n",
       "      <td>02:16</td>\n",
       "    </tr>\n",
       "    <tr>\n",
       "      <td>4</td>\n",
       "      <td>3.565629</td>\n",
       "      <td>3.618187</td>\n",
       "      <td>0.365638</td>\n",
       "      <td>37.269943</td>\n",
       "      <td>02:14</td>\n",
       "    </tr>\n",
       "    <tr>\n",
       "      <td>5</td>\n",
       "      <td>3.449626</td>\n",
       "      <td>3.557230</td>\n",
       "      <td>0.371363</td>\n",
       "      <td>35.065922</td>\n",
       "      <td>02:15</td>\n",
       "    </tr>\n",
       "    <tr>\n",
       "      <td>6</td>\n",
       "      <td>3.344326</td>\n",
       "      <td>3.522592</td>\n",
       "      <td>0.375010</td>\n",
       "      <td>33.872120</td>\n",
       "      <td>02:14</td>\n",
       "    </tr>\n",
       "    <tr>\n",
       "      <td>7</td>\n",
       "      <td>3.309022</td>\n",
       "      <td>3.504433</td>\n",
       "      <td>0.377193</td>\n",
       "      <td>33.262592</td>\n",
       "      <td>02:11</td>\n",
       "    </tr>\n",
       "    <tr>\n",
       "      <td>8</td>\n",
       "      <td>3.253248</td>\n",
       "      <td>3.497124</td>\n",
       "      <td>0.378671</td>\n",
       "      <td>33.020348</td>\n",
       "      <td>02:11</td>\n",
       "    </tr>\n",
       "    <tr>\n",
       "      <td>9</td>\n",
       "      <td>3.212035</td>\n",
       "      <td>3.497472</td>\n",
       "      <td>0.378683</td>\n",
       "      <td>33.031853</td>\n",
       "      <td>02:12</td>\n",
       "    </tr>\n",
       "  </tbody>\n",
       "</table>"
      ],
      "text/plain": [
       "<IPython.core.display.HTML object>"
      ]
     },
     "metadata": {},
     "output_type": "display_data"
    }
   ],
   "source": [
    "learn.unfreeze()\n",
    "learn.fit_one_cycle(10, 1e-3)"
   ]
  },
  {
   "cell_type": "code",
   "execution_count": 13,
   "id": "judicial-sweden",
   "metadata": {
    "execution": {
     "iopub.execute_input": "2021-04-29T15:33:08.375185Z",
     "iopub.status.busy": "2021-04-29T15:33:08.374315Z",
     "iopub.status.idle": "2021-04-29T15:33:08.809858Z",
     "shell.execute_reply": "2021-04-29T15:33:08.809380Z"
    },
    "papermill": {
     "duration": 0.463664,
     "end_time": "2021-04-29T15:33:08.810027",
     "exception": false,
     "start_time": "2021-04-29T15:33:08.346363",
     "status": "completed"
    },
    "tags": []
   },
   "outputs": [],
   "source": [
    "learn.save_encoder('finetune')"
   ]
  },
  {
   "cell_type": "code",
   "execution_count": 14,
   "id": "average-shepherd",
   "metadata": {
    "execution": {
     "iopub.execute_input": "2021-04-29T15:33:08.914097Z",
     "iopub.status.busy": "2021-04-29T15:33:08.887953Z",
     "iopub.status.idle": "2021-04-29T15:33:43.483136Z",
     "shell.execute_reply": "2021-04-29T15:33:43.482677Z"
    },
    "papermill": {
     "duration": 34.648856,
     "end_time": "2021-04-29T15:33:43.483264",
     "exception": false,
     "start_time": "2021-04-29T15:33:08.834408",
     "status": "completed"
    },
    "tags": []
   },
   "outputs": [
    {
     "data": {
      "text/html": [],
      "text/plain": [
       "<IPython.core.display.HTML object>"
      ]
     },
     "metadata": {},
     "output_type": "display_data"
    },
    {
     "name": "stderr",
     "output_type": "stream",
     "text": [
      "/opt/conda/lib/python3.7/site-packages/numpy/core/_asarray.py:83: VisibleDeprecationWarning: Creating an ndarray from ragged nested sequences (which is a list-or-tuple of lists-or-tuples-or ndarrays with different lengths or shapes) is deprecated. If you meant to do this, you must specify 'dtype=object' when creating the ndarray\n",
      "  return array(a, dtype, copy=False, order=order)\n"
     ]
    }
   ],
   "source": [
    "# Time to train the classifier using the language model \n",
    "data_class = TextDataLoaders.from_df(df, text_col=\"content\", label_col=\"category\", valid_pct=0.2, text_vocab=data_lm.vocab)"
   ]
  },
  {
   "cell_type": "code",
   "execution_count": 15,
   "id": "brief-timer",
   "metadata": {
    "execution": {
     "iopub.execute_input": "2021-04-29T15:33:43.538036Z",
     "iopub.status.busy": "2021-04-29T15:33:43.537298Z",
     "iopub.status.idle": "2021-04-29T15:33:44.598644Z",
     "shell.execute_reply": "2021-04-29T15:33:44.598060Z"
    },
    "papermill": {
     "duration": 1.090588,
     "end_time": "2021-04-29T15:33:44.598774",
     "exception": false,
     "start_time": "2021-04-29T15:33:43.508186",
     "status": "completed"
    },
    "tags": []
   },
   "outputs": [],
   "source": [
    "learn = text_classifier_learner(data_class, AWD_LSTM, drop_mult=0.5, metrics=accuracy)"
   ]
  },
  {
   "cell_type": "code",
   "execution_count": 16,
   "id": "executive-atlas",
   "metadata": {
    "execution": {
     "iopub.execute_input": "2021-04-29T15:33:44.654610Z",
     "iopub.status.busy": "2021-04-29T15:33:44.653697Z",
     "iopub.status.idle": "2021-04-29T15:33:44.771311Z",
     "shell.execute_reply": "2021-04-29T15:33:44.770802Z"
    },
    "papermill": {
     "duration": 0.146767,
     "end_time": "2021-04-29T15:33:44.771458",
     "exception": false,
     "start_time": "2021-04-29T15:33:44.624691",
     "status": "completed"
    },
    "tags": []
   },
   "outputs": [],
   "source": [
    "learn = learn.load_encoder('finetune')"
   ]
  },
  {
   "cell_type": "code",
   "execution_count": 17,
   "id": "rising-notification",
   "metadata": {
    "execution": {
     "iopub.execute_input": "2021-04-29T15:33:44.828246Z",
     "iopub.status.busy": "2021-04-29T15:33:44.827257Z",
     "iopub.status.idle": "2021-04-29T15:34:05.428222Z",
     "shell.execute_reply": "2021-04-29T15:34:05.427738Z"
    },
    "papermill": {
     "duration": 20.6305,
     "end_time": "2021-04-29T15:34:05.428354",
     "exception": false,
     "start_time": "2021-04-29T15:33:44.797854",
     "status": "completed"
    },
    "tags": []
   },
   "outputs": [
    {
     "data": {
      "text/html": [
       "<table border=\"1\" class=\"dataframe\">\n",
       "  <thead>\n",
       "    <tr style=\"text-align: left;\">\n",
       "      <th>epoch</th>\n",
       "      <th>train_loss</th>\n",
       "      <th>valid_loss</th>\n",
       "      <th>accuracy</th>\n",
       "      <th>time</th>\n",
       "    </tr>\n",
       "  </thead>\n",
       "  <tbody>\n",
       "    <tr>\n",
       "      <td>0</td>\n",
       "      <td>0.521588</td>\n",
       "      <td>0.405334</td>\n",
       "      <td>0.853398</td>\n",
       "      <td>00:20</td>\n",
       "    </tr>\n",
       "  </tbody>\n",
       "</table>"
      ],
      "text/plain": [
       "<IPython.core.display.HTML object>"
      ]
     },
     "metadata": {},
     "output_type": "display_data"
    }
   ],
   "source": [
    "learn.fit_one_cycle(1, 2e-2)"
   ]
  },
  {
   "cell_type": "code",
   "execution_count": 18,
   "id": "going-cleaning",
   "metadata": {
    "execution": {
     "iopub.execute_input": "2021-04-29T15:34:05.484590Z",
     "iopub.status.busy": "2021-04-29T15:34:05.483845Z",
     "iopub.status.idle": "2021-04-29T15:34:29.453641Z",
     "shell.execute_reply": "2021-04-29T15:34:29.452843Z"
    },
    "papermill": {
     "duration": 23.999611,
     "end_time": "2021-04-29T15:34:29.453779",
     "exception": false,
     "start_time": "2021-04-29T15:34:05.454168",
     "status": "completed"
    },
    "tags": []
   },
   "outputs": [
    {
     "data": {
      "text/html": [
       "<table border=\"1\" class=\"dataframe\">\n",
       "  <thead>\n",
       "    <tr style=\"text-align: left;\">\n",
       "      <th>epoch</th>\n",
       "      <th>train_loss</th>\n",
       "      <th>valid_loss</th>\n",
       "      <th>accuracy</th>\n",
       "      <th>time</th>\n",
       "    </tr>\n",
       "  </thead>\n",
       "  <tbody>\n",
       "    <tr>\n",
       "      <td>0</td>\n",
       "      <td>0.394722</td>\n",
       "      <td>0.342463</td>\n",
       "      <td>0.874757</td>\n",
       "      <td>00:23</td>\n",
       "    </tr>\n",
       "  </tbody>\n",
       "</table>"
      ],
      "text/plain": [
       "<IPython.core.display.HTML object>"
      ]
     },
     "metadata": {},
     "output_type": "display_data"
    }
   ],
   "source": [
    "learn.freeze_to(-2)\n",
    "learn.fit_one_cycle(1, slice(1e-2/(2.6**4),1e-2))"
   ]
  },
  {
   "cell_type": "code",
   "execution_count": 19,
   "id": "civil-country",
   "metadata": {
    "execution": {
     "iopub.execute_input": "2021-04-29T15:34:29.509942Z",
     "iopub.status.busy": "2021-04-29T15:34:29.509153Z",
     "iopub.status.idle": "2021-04-29T15:35:05.319350Z",
     "shell.execute_reply": "2021-04-29T15:35:05.318881Z"
    },
    "papermill": {
     "duration": 35.840083,
     "end_time": "2021-04-29T15:35:05.319479",
     "exception": false,
     "start_time": "2021-04-29T15:34:29.479396",
     "status": "completed"
    },
    "tags": []
   },
   "outputs": [
    {
     "data": {
      "text/html": [
       "<table border=\"1\" class=\"dataframe\">\n",
       "  <thead>\n",
       "    <tr style=\"text-align: left;\">\n",
       "      <th>epoch</th>\n",
       "      <th>train_loss</th>\n",
       "      <th>valid_loss</th>\n",
       "      <th>accuracy</th>\n",
       "      <th>time</th>\n",
       "    </tr>\n",
       "  </thead>\n",
       "  <tbody>\n",
       "    <tr>\n",
       "      <td>0</td>\n",
       "      <td>0.309457</td>\n",
       "      <td>0.294903</td>\n",
       "      <td>0.904854</td>\n",
       "      <td>00:35</td>\n",
       "    </tr>\n",
       "  </tbody>\n",
       "</table>"
      ],
      "text/plain": [
       "<IPython.core.display.HTML object>"
      ]
     },
     "metadata": {},
     "output_type": "display_data"
    }
   ],
   "source": [
    "learn.freeze_to(-3)\n",
    "learn.fit_one_cycle(1, slice(5e-3/(2.6**4),5e-3))"
   ]
  },
  {
   "cell_type": "code",
   "execution_count": 20,
   "id": "broad-internet",
   "metadata": {
    "execution": {
     "iopub.execute_input": "2021-04-29T15:35:05.379751Z",
     "iopub.status.busy": "2021-04-29T15:35:05.379243Z",
     "iopub.status.idle": "2021-04-29T15:36:36.460766Z",
     "shell.execute_reply": "2021-04-29T15:36:36.460332Z"
    },
    "papermill": {
     "duration": 91.113549,
     "end_time": "2021-04-29T15:36:36.460929",
     "exception": false,
     "start_time": "2021-04-29T15:35:05.347380",
     "status": "completed"
    },
    "tags": []
   },
   "outputs": [
    {
     "data": {
      "text/html": [
       "<table border=\"1\" class=\"dataframe\">\n",
       "  <thead>\n",
       "    <tr style=\"text-align: left;\">\n",
       "      <th>epoch</th>\n",
       "      <th>train_loss</th>\n",
       "      <th>valid_loss</th>\n",
       "      <th>accuracy</th>\n",
       "      <th>time</th>\n",
       "    </tr>\n",
       "  </thead>\n",
       "  <tbody>\n",
       "    <tr>\n",
       "      <td>0</td>\n",
       "      <td>0.214619</td>\n",
       "      <td>0.302251</td>\n",
       "      <td>0.905825</td>\n",
       "      <td>00:45</td>\n",
       "    </tr>\n",
       "    <tr>\n",
       "      <td>1</td>\n",
       "      <td>0.186537</td>\n",
       "      <td>0.303273</td>\n",
       "      <td>0.903884</td>\n",
       "      <td>00:45</td>\n",
       "    </tr>\n",
       "  </tbody>\n",
       "</table>"
      ],
      "text/plain": [
       "<IPython.core.display.HTML object>"
      ]
     },
     "metadata": {},
     "output_type": "display_data"
    }
   ],
   "source": [
    "learn.unfreeze()\n",
    "learn.fit_one_cycle(2, slice(1e-3/(2.6**4),1e-3))"
   ]
  },
  {
   "cell_type": "code",
   "execution_count": 21,
   "id": "standard-german",
   "metadata": {
    "execution": {
     "iopub.execute_input": "2021-04-29T15:36:36.522169Z",
     "iopub.status.busy": "2021-04-29T15:36:36.521307Z",
     "iopub.status.idle": "2021-04-29T15:36:37.731928Z",
     "shell.execute_reply": "2021-04-29T15:36:37.732439Z"
    },
    "papermill": {
     "duration": 1.243696,
     "end_time": "2021-04-29T15:36:37.732616",
     "exception": false,
     "start_time": "2021-04-29T15:36:36.488920",
     "status": "completed"
    },
    "tags": []
   },
   "outputs": [
    {
     "data": {
      "text/plain": [
       "Path('models/final_model.pth')"
      ]
     },
     "execution_count": 21,
     "metadata": {},
     "output_type": "execute_result"
    }
   ],
   "source": [
    "learn.save('final_model')"
   ]
  },
  {
   "cell_type": "code",
   "execution_count": 22,
   "id": "caroline-antenna",
   "metadata": {
    "execution": {
     "iopub.execute_input": "2021-04-29T15:36:37.794234Z",
     "iopub.status.busy": "2021-04-29T15:36:37.793402Z",
     "iopub.status.idle": "2021-04-29T15:36:38.993869Z",
     "shell.execute_reply": "2021-04-29T15:36:38.994301Z"
    },
    "papermill": {
     "duration": 1.234702,
     "end_time": "2021-04-29T15:36:38.994478",
     "exception": false,
     "start_time": "2021-04-29T15:36:37.759776",
     "status": "completed"
    },
    "tags": []
   },
   "outputs": [
    {
     "data": {
      "text/html": [],
      "text/plain": [
       "<IPython.core.display.HTML object>"
      ]
     },
     "metadata": {},
     "output_type": "display_data"
    },
    {
     "data": {
      "text/html": [
       "<table border=\"1\" class=\"dataframe\">\n",
       "  <thead>\n",
       "    <tr style=\"text-align: right;\">\n",
       "      <th></th>\n",
       "      <th>text</th>\n",
       "      <th>category</th>\n",
       "      <th>category_</th>\n",
       "    </tr>\n",
       "  </thead>\n",
       "  <tbody>\n",
       "    <tr>\n",
       "      <th>0</th>\n",
       "      <td>xxbos [ ' manchester xxmaj united xxunk katika harakati ya kutaka kumsaini beki wa xxmaj leicester na xxmaj uingereza xxmaj harry xxmaj maguire baada ya kuambiwa kwamba mchezaji huyo mwenye umri wa miaka 26 atagharimu £ 100 m . ( mirror ) ' , ' mkufunzi wa klabu ya xxmaj nice nchini xxmaj ufaransa xxmaj patrick xxmaj vieira , 43 , xxmaj mkufunzi wa klabu ya xxmaj rangers xxmaj steven xxmaj gerrard , 39 , kocha wa xxmaj manchester xxmaj city xxmaj mikel xxmaj arteta , 37 , wameorodheshwa miongoni mwa wakufunzi wanaotarajiwa kumrithi xxmaj rafael xxmaj benitez . ( telegraph ) ' , ' raia wa xxmaj uhispania xxmaj mikel xxmaj arteta ameungwa mkono kuchukua ukufunzi wa klabu ya xxmaj manchester xxmaj city wakati kocha xxmaj pep xxmaj guardiola atakapoondoka katika klabu hiyo . ( evening xxmaj standard ) ' , ' mkufunzi wa klabu ya xxmaj burnley xxmaj</td>\n",
       "      <td>michezo</td>\n",
       "      <td>michezo</td>\n",
       "    </tr>\n",
       "    <tr>\n",
       "      <th>1</th>\n",
       "      <td>xxbos xxup kifo cha bilionea maarufu nchini xxmaj tanzania na xxmaj afrika xxmaj mashariki na mmiliki wa xxmaj makampuni ya xxup ipp , xxmaj dk xxmaj reginald xxmaj mengi , xxunk wengi , huku akiwa ameacha pengo kubwa katika maeneo ya biashara na vyombo vya xxunk xxmaj mengi ambaye pia ni xxmaj mwenyekiti xxmaj mtendaji wa makampuni hayo ya xxup ipp , alifariki dunia usiku wa kuamkia jana xxmaj dubai katika xxmaj falme za xxmaj kiarabu baada ya kuugua muda mfupi . xxmaj mfanyabiashara huyo anayemiliki vyombo mbalimbali vya habari amefariki , ikiwa ni takribani miezi sita tangu kifo cha aliyekuwa xxunk wake , xxmaj mercy xxmaj mengi xxunk na umauti akiwa xxmaj afrika kusini.kwa mujibu wa taarifa iliyotolewa na familia yake , xxmaj dk xxmaj mengi aliyezaliwa mwaka 1942 mkoani xxmaj kilimanjaro , alikutwa na umauti wakati akipatiwa matibabu baada ya kuugua kwa muda xxunk xxmaj mengi , mwandishi</td>\n",
       "      <td>Kitaifa</td>\n",
       "      <td>Kitaifa</td>\n",
       "    </tr>\n",
       "    <tr>\n",
       "      <th>2</th>\n",
       "      <td>xxbos xxup tanzania na xxmaj rwanda zipo katika hatua ya mwisho ya makubaliano ya kupanua mradi wa reli ya kisasa ( sgr ) itokayo xxmaj isaka , xxmaj tanzania hadi xxmaj kigali , xxmaj rwanda na sasa xxunk hadi xxmaj rubavu , mpakani mwa xxmaj rwanda na xxmaj jamhuri ya xxmaj kidemokrasia ya xxmaj congo ( xxunk hiyo inatokana na mkutano baina ya mawaziri wa pande hizo mbili , walipokutana mwishoni mwa wiki iliyopita mjini xxmaj kigali , xxmaj rwanda . xxmaj mawaziri hao walijadili miradi ya pamoja ya mataifa hayo , hasa miradi ya reli ya kisasa kutoka xxmaj isaka , xxmaj tanzania hadi xxmaj kigali , xxmaj rwanda . xxmaj waziri wa xxmaj ujenzi , xxmaj uchukuzi na xxmaj mawasiliano , xxmaj isack xxmaj kamwelwe alikuwa mjini xxmaj kigali ambako alikutana na xxmaj waziri wa xxmaj miundombinu wa xxmaj rwanda , xxmaj claver xxmaj gatete kujadili namna ya</td>\n",
       "      <td>Kitaifa</td>\n",
       "      <td>Kitaifa</td>\n",
       "    </tr>\n",
       "    <tr>\n",
       "      <th>3</th>\n",
       "      <td>xxbos xxup ripoti ya xxmaj mdhibiti na xxmaj mkaguzi xxmaj mkuu wa xxmaj hesabu za xxmaj serikali ( cag ) ya mwaka 2015 / 16 , xxunk udhaifu katika mradi wa bomba la usafirishaji gesi asilia kati ya xxmaj mtwara na xxmaj dar es xxmaj salaam , xxunk kiwango kidogo cha matumizi ya gesi hiyo nchini.katika ripoti yake hiyo , xxup cag alieleza kuwa bomba hilo lililojengwa na xxmaj kampuni ya xxmaj maendeleo ya xxmaj petroli na xxmaj teknolojia xxmaj china ( xxunk gharama ya xxmaj dola za xxmaj marekani bilioni xxunk ( dola bilioni xxunk zikiwa ni mkopo wa masharti nafuu kutoka xxmaj benki ya xxmaj exim ya xxmaj china ) , ujenzi wake ulifanyika kabla ya kutafuta wateja wa gesi hiyo .   xxup cag alibainisha kuwa hali hiyo inasababisha ukakasi katika marejesho ya mkopo xxunk kupatikana kwenye mauzo ya gesi asilia baada ya kukamilika kwa mradi wa</td>\n",
       "      <td>Biashara</td>\n",
       "      <td>Kitaifa</td>\n",
       "    </tr>\n",
       "    <tr>\n",
       "      <th>4</th>\n",
       "      <td>xxbos xxup juni xxmaj mosi mwaka huu ilikuwa mwisho wa matumizi ya mifuko ya plastiki ya kubebea bidhaa nchini . xxmaj marufuku hiyo ilitolewa na xxmaj wizara katika xxmaj ofisi ya xxmaj makamu wa xxmaj rais , xxmaj muungano na xxunk mwenye dhamana , xxmaj januari xxmaj makamba , ndiye aliyeongoza kampeni hiyo ya kuondoa mifuko ( vibebeo ) ya plastiki , ikiwa ni hatua ya xxunk mazingira na kulinda afya za xxunk tathimini ya haraka na kwa uzoefu wa kampeni nyingi zinazofanyika nchini , kampeni hiyo pamoja na kuwa na changamoto kadhaa , imefanikiwa na hii inatokana na ushirikishwaji xxunk ngazi ya familia , mtaa , kijiji hadi taifa na kufanya kila mtu xxunk ni sehemu husika . xxmaj baada ya katazo hilo xxunk na muda wa kutosha wa zaidi ya miezi sita kwa wafanyabiashara na watumiaji kuondoa matumizi hayo , fursa ilianza kuonekana kwa wajasiriamali wadogo , wa</td>\n",
       "      <td>Kitaifa</td>\n",
       "      <td>Kitaifa</td>\n",
       "    </tr>\n",
       "  </tbody>\n",
       "</table>"
      ],
      "text/plain": [
       "<IPython.core.display.HTML object>"
      ]
     },
     "metadata": {},
     "output_type": "display_data"
    }
   ],
   "source": [
    "learn.show_results(max_n=5)"
   ]
  },
  {
   "cell_type": "code",
   "execution_count": 23,
   "id": "accepted-speaking",
   "metadata": {
    "execution": {
     "iopub.execute_input": "2021-04-29T15:36:39.115873Z",
     "iopub.status.busy": "2021-04-29T15:36:39.100758Z",
     "iopub.status.idle": "2021-04-29T15:36:47.762790Z",
     "shell.execute_reply": "2021-04-29T15:36:47.762255Z"
    },
    "papermill": {
     "duration": 8.740098,
     "end_time": "2021-04-29T15:36:47.762918",
     "exception": false,
     "start_time": "2021-04-29T15:36:39.022820",
     "status": "completed"
    },
    "tags": []
   },
   "outputs": [],
   "source": [
    "test_dl = learn.dls.test_dl(test['content'])"
   ]
  },
  {
   "cell_type": "code",
   "execution_count": 24,
   "id": "angry-yorkshire",
   "metadata": {
    "execution": {
     "iopub.execute_input": "2021-04-29T15:36:47.829187Z",
     "iopub.status.busy": "2021-04-29T15:36:47.827925Z",
     "iopub.status.idle": "2021-04-29T15:36:56.555811Z",
     "shell.execute_reply": "2021-04-29T15:36:56.555330Z"
    },
    "papermill": {
     "duration": 8.763352,
     "end_time": "2021-04-29T15:36:56.555960",
     "exception": false,
     "start_time": "2021-04-29T15:36:47.792608",
     "status": "completed"
    },
    "tags": []
   },
   "outputs": [
    {
     "data": {
      "text/html": [],
      "text/plain": [
       "<IPython.core.display.HTML object>"
      ]
     },
     "metadata": {},
     "output_type": "display_data"
    }
   ],
   "source": [
    "preds, target = learn.get_preds(dl=test_dl)"
   ]
  },
  {
   "cell_type": "code",
   "execution_count": 25,
   "id": "respiratory-physiology",
   "metadata": {
    "execution": {
     "iopub.execute_input": "2021-04-29T15:36:56.620026Z",
     "iopub.status.busy": "2021-04-29T15:36:56.619019Z",
     "iopub.status.idle": "2021-04-29T15:36:56.624112Z",
     "shell.execute_reply": "2021-04-29T15:36:56.623583Z"
    },
    "papermill": {
     "duration": 0.039007,
     "end_time": "2021-04-29T15:36:56.624259",
     "exception": false,
     "start_time": "2021-04-29T15:36:56.585252",
     "status": "completed"
    },
    "tags": []
   },
   "outputs": [
    {
     "data": {
      "text/plain": [
       "array([[4.0664976e-03, 1.4693043e-03, 3.2631145e-03, 9.7949570e-01,\n",
       "        1.1705377e-02],\n",
       "       [9.4401703e-04, 1.6530217e-03, 2.9950698e-03, 2.2972740e-02,\n",
       "        9.7143519e-01],\n",
       "       [5.8824635e-01, 7.1178386e-03, 8.3269197e-03, 3.9423695e-01,\n",
       "        2.0719317e-03],\n",
       "       ...,\n",
       "       [2.0233376e-04, 1.5692385e-03, 2.5739253e-03, 1.1406431e-02,\n",
       "        9.8424810e-01],\n",
       "       [1.5213006e-03, 7.2677624e-03, 7.1725352e-03, 3.6999084e-02,\n",
       "        9.4703931e-01],\n",
       "       [1.8580666e-02, 1.6533927e-03, 3.1586955e-03, 9.4935542e-01,\n",
       "        2.7251806e-02]], dtype=float32)"
      ]
     },
     "execution_count": 25,
     "metadata": {},
     "output_type": "execute_result"
    }
   ],
   "source": [
    "preds = preds.numpy()\n",
    "preds"
   ]
  },
  {
   "cell_type": "code",
   "execution_count": 26,
   "id": "expanded-bargain",
   "metadata": {
    "execution": {
     "iopub.execute_input": "2021-04-29T15:36:56.695378Z",
     "iopub.status.busy": "2021-04-29T15:36:56.694609Z",
     "iopub.status.idle": "2021-04-29T15:36:56.699791Z",
     "shell.execute_reply": "2021-04-29T15:36:56.699369Z"
    },
    "papermill": {
     "duration": 0.042169,
     "end_time": "2021-04-29T15:36:56.699908",
     "exception": false,
     "start_time": "2021-04-29T15:36:56.657739",
     "status": "completed"
    },
    "tags": []
   },
   "outputs": [
    {
     "data": {
      "text/plain": [
       "array([[0., 0., 0., 1., 0.],\n",
       "       [0., 0., 0., 0., 1.],\n",
       "       [1., 0., 0., 0., 0.],\n",
       "       ...,\n",
       "       [0., 0., 0., 0., 1.],\n",
       "       [0., 0., 0., 0., 1.],\n",
       "       [0., 0., 0., 1., 0.]], dtype=float32)"
      ]
     },
     "execution_count": 26,
     "metadata": {},
     "output_type": "execute_result"
    }
   ],
   "source": [
    "preds = np.around(preds,decimals=0)\n",
    "preds"
   ]
  },
  {
   "cell_type": "code",
   "execution_count": 27,
   "id": "considered-proportion",
   "metadata": {
    "execution": {
     "iopub.execute_input": "2021-04-29T15:36:56.766819Z",
     "iopub.status.busy": "2021-04-29T15:36:56.766280Z",
     "iopub.status.idle": "2021-04-29T15:36:56.771927Z",
     "shell.execute_reply": "2021-04-29T15:36:56.772307Z"
    },
    "papermill": {
     "duration": 0.041254,
     "end_time": "2021-04-29T15:36:56.772458",
     "exception": false,
     "start_time": "2021-04-29T15:36:56.731204",
     "status": "completed"
    },
    "tags": []
   },
   "outputs": [
    {
     "data": {
      "text/plain": [
       "array([[0, 0, 0, 1, 0],\n",
       "       [0, 0, 0, 0, 1],\n",
       "       [1, 0, 0, 0, 0],\n",
       "       ...,\n",
       "       [0, 0, 0, 0, 1],\n",
       "       [0, 0, 0, 0, 1],\n",
       "       [0, 0, 0, 1, 0]])"
      ]
     },
     "execution_count": 27,
     "metadata": {},
     "output_type": "execute_result"
    }
   ],
   "source": [
    "preds = preds.astype(int)\n",
    "preds"
   ]
  },
  {
   "cell_type": "code",
   "execution_count": 28,
   "id": "north-poster",
   "metadata": {
    "execution": {
     "iopub.execute_input": "2021-04-29T15:36:56.841632Z",
     "iopub.status.busy": "2021-04-29T15:36:56.840733Z",
     "iopub.status.idle": "2021-04-29T15:36:56.870326Z",
     "shell.execute_reply": "2021-04-29T15:36:56.869870Z"
    },
    "papermill": {
     "duration": 0.068059,
     "end_time": "2021-04-29T15:36:56.870447",
     "exception": false,
     "start_time": "2021-04-29T15:36:56.802388",
     "status": "completed"
    },
    "tags": []
   },
   "outputs": [],
   "source": [
    "testData = pd.read_csv('../input/nlpswahili/Test.csv', index_col='swahili_id')"
   ]
  },
  {
   "cell_type": "code",
   "execution_count": 29,
   "id": "signed-consumer",
   "metadata": {
    "execution": {
     "iopub.execute_input": "2021-04-29T15:36:56.940472Z",
     "iopub.status.busy": "2021-04-29T15:36:56.939894Z",
     "iopub.status.idle": "2021-04-29T15:36:57.081199Z",
     "shell.execute_reply": "2021-04-29T15:36:57.080543Z"
    },
    "papermill": {
     "duration": 0.180664,
     "end_time": "2021-04-29T15:36:57.081373",
     "exception": false,
     "start_time": "2021-04-29T15:36:56.900709",
     "status": "completed"
    },
    "tags": []
   },
   "outputs": [
    {
     "name": "stdout",
     "output_type": "stream",
     "text": [
      "                                          kitaifa  michezo  biashara  \\\n",
      "test_id                                                                \n",
      "001dd47ac202d9db6624a5ff734a5e7dddafeaf2        1        0         0   \n",
      "0043d97f7690e9bc02f0ed8bb2b260d1d44bad92        0        1         0   \n",
      "00579c2307b5c11003d21c40c3ecff5e922c3fd8        0        0         1   \n",
      "00868eeee349e286303706ef0ffd851f39708d37        1        0         0   \n",
      "00a5cb12d3058dcf2e42f277eee599992db32412        1        0         0   \n",
      "\n",
      "                                          kimataifa  burudani  \n",
      "test_id                                                        \n",
      "001dd47ac202d9db6624a5ff734a5e7dddafeaf2          0         0  \n",
      "0043d97f7690e9bc02f0ed8bb2b260d1d44bad92          0         0  \n",
      "00579c2307b5c11003d21c40c3ecff5e922c3fd8          0         0  \n",
      "00868eeee349e286303706ef0ffd851f39708d37          0         0  \n",
      "00a5cb12d3058dcf2e42f277eee599992db32412          0         0  \n"
     ]
    }
   ],
   "source": [
    "submission =  pd.DataFrame(preds, columns = ['biashara', 'burudani', 'kimataifa', 'kitaifa', 'michezo'])\n",
    "submission.index = testData.index\n",
    "submission.index.rename('test_id', inplace=True)\n",
    "\n",
    "# Rearrange columns to match submission guidelines\n",
    "submission = submission[[\"kitaifa\", \"michezo\", \"biashara\", \"kimataifa\", \"burudani\"]]\n",
    "print(submission.head())\n",
    "\n",
    "# Save to submission.csv\n",
    "submission.to_csv('Submission.csv')"
   ]
  },
  {
   "cell_type": "code",
   "execution_count": 30,
   "id": "divided-display",
   "metadata": {
    "execution": {
     "iopub.execute_input": "2021-04-29T15:36:57.147291Z",
     "iopub.status.busy": "2021-04-29T15:36:57.146508Z",
     "iopub.status.idle": "2021-04-29T15:36:57.154667Z",
     "shell.execute_reply": "2021-04-29T15:36:57.154235Z"
    },
    "papermill": {
     "duration": 0.041798,
     "end_time": "2021-04-29T15:36:57.154771",
     "exception": false,
     "start_time": "2021-04-29T15:36:57.112973",
     "status": "completed"
    },
    "tags": []
   },
   "outputs": [],
   "source": [
    "submission.to_csv('Submission.csv')"
   ]
  },
  {
   "cell_type": "code",
   "execution_count": null,
   "id": "hawaiian-puppy",
   "metadata": {
    "papermill": {
     "duration": 0.029452,
     "end_time": "2021-04-29T15:36:57.214288",
     "exception": false,
     "start_time": "2021-04-29T15:36:57.184836",
     "status": "completed"
    },
    "tags": []
   },
   "outputs": [],
   "source": []
  }
 ],
 "metadata": {
  "kernelspec": {
   "display_name": "Python 3",
   "language": "python",
   "name": "python3"
  },
  "language_info": {
   "codemirror_mode": {
    "name": "ipython",
    "version": 3
   },
   "file_extension": ".py",
   "mimetype": "text/x-python",
   "name": "python",
   "nbconvert_exporter": "python",
   "pygments_lexer": "ipython3",
   "version": "3.7.10"
  },
  "papermill": {
   "default_parameters": {},
   "duration": 1776.353564,
   "end_time": "2021-04-29T15:37:00.833921",
   "environment_variables": {},
   "exception": null,
   "input_path": "__notebook__.ipynb",
   "output_path": "__notebook__.ipynb",
   "parameters": {},
   "start_time": "2021-04-29T15:07:24.480357",
   "version": "2.3.3"
  }
 },
 "nbformat": 4,
 "nbformat_minor": 5
}
