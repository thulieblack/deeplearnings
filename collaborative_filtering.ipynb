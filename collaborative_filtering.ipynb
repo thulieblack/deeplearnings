{
  "nbformat": 4,
  "nbformat_minor": 0,
  "metadata": {
    "colab": {
      "name": "collaborative_filtering.ipynb",
      "provenance": [],
      "authorship_tag": "ABX9TyPOqEhbSDhxv3/Wurhw/1Hj",
      "include_colab_link": true
    },
    "kernelspec": {
      "name": "python3",
      "display_name": "Python 3"
    },
    "language_info": {
      "name": "python"
    }
  },
  "cells": [
    {
      "cell_type": "markdown",
      "metadata": {
        "id": "view-in-github",
        "colab_type": "text"
      },
      "source": [
        "<a href=\"https://colab.research.google.com/github/thulieblack/deeplearnings/blob/main/collaborative_filtering.ipynb\" target=\"_parent\"><img src=\"https://colab.research.google.com/assets/colab-badge.svg\" alt=\"Open In Colab\"/></a>"
      ]
    },
    {
      "cell_type": "code",
      "metadata": {
        "id": "yEuXRlInKCqV"
      },
      "source": [
        "# python dict of all the people who made reviews on amazon popular bands\n",
        "\n",
        "users = {\"Angelica\": {\"Blues Traveler\": 3.5, \"Broken Bells\": 2.0, \"Norah Jones\": 4.5, \"Phoenix\": 5.0, \"Slightly Stoopid\": 1.5, \"The Strokes\": 2.5, \"Vampire Weekend\": 2.0},\n",
        "         \"Bill\":{\"Blues Traveler\": 2.0, \"Broken Bells\": 3.5, \"Deadmau5\": 4.0, \"Phoenix\": 2.0, \"Slightly Stoopid\": 3.5, \"Vampire Weekend\": 3.0},\n",
        "         \"Chan\": {\"Blues Traveler\": 5.0, \"Broken Bells\": 1.0, \"Deadmau5\": 1.0, \"Norah Jones\": 3.0, \"Phoenix\": 5, \"Slightly Stoopid\": 1.0},\n",
        "         \"Dan\": {\"Blues Traveler\": 3.0, \"Broken Bells\": 4.0, \"Deadmau5\": 4.5, \"Phoenix\": 3.0, \"Slightly Stoopid\": 4.5, \"The Strokes\": 4.0, \"Vampire Weekend\": 2.0},\n",
        "         \"Hailey\": {\"Broken Bells\": 4.0, \"Deadmau5\": 1.0, \"Norah Jones\": 4.0, \"The Strokes\": 4.0, \"Vampire Weekend\": 1.0},\n",
        "         \"Jordyn\":  {\"Broken Bells\": 4.5, \"Deadmau5\": 4.0, \"Norah Jones\": 5.0, \"Phoenix\": 5.0, \"Slightly Stoopid\": 4.5, \"The Strokes\": 4.0, \"Vampire Weekend\": 4.0},\n",
        "         \"Sam\": {\"Blues Traveler\": 5.0, \"Broken Bells\": 2.0, \"Norah Jones\": 3.0, \"Phoenix\": 5.0, \"Slightly Stoopid\": 4.0, \"The Strokes\": 5.0},\n",
        "         \"Veronica\": {\"Blues Traveler\": 3.0, \"Norah Jones\": 5.0, \"Phoenix\": 4.0, \"Slightly Stoopid\": 2.5, \"The Strokes\": 3.0}\n",
        "        }\n"
      ],
      "execution_count": 1,
      "outputs": []
    },
    {
      "cell_type": "code",
      "metadata": {
        "colab": {
          "base_uri": "https://localhost:8080/"
        },
        "id": "8HATcsIpQg-X",
        "outputId": "aa907d32-f3ce-46f4-bd7f-c730a95a8c81"
      },
      "source": [
        "users[\"Hailey\"]"
      ],
      "execution_count": 2,
      "outputs": [
        {
          "output_type": "execute_result",
          "data": {
            "text/plain": [
              "{'Broken Bells': 4.0,\n",
              " 'Deadmau5': 1.0,\n",
              " 'Norah Jones': 4.0,\n",
              " 'The Strokes': 4.0,\n",
              " 'Vampire Weekend': 1.0}"
            ]
          },
          "metadata": {
            "tags": []
          },
          "execution_count": 2
        }
      ]
    },
    {
      "cell_type": "code",
      "metadata": {
        "id": "Bbg9F4QjQtLh"
      },
      "source": [
        "#below is the function that computes the manhattan distance\n",
        "\n",
        "def manhattan(rating1,rating2):\n",
        "  distance = 0\n",
        "  for key in rating1:\n",
        "    if key in rating2:\n",
        "      distance += abs(rating1[key]-rating2[key])\n",
        "    return distance"
      ],
      "execution_count": 3,
      "outputs": []
    },
    {
      "cell_type": "code",
      "metadata": {
        "colab": {
          "base_uri": "https://localhost:8080/"
        },
        "id": "xqKl-owqRk8P",
        "outputId": "69673b84-e159-4bc1-ced9-0475ac759ac5"
      },
      "source": [
        "#test the function\n",
        "manhattan(users['Hailey'],users['Jordyn'])"
      ],
      "execution_count": 4,
      "outputs": [
        {
          "output_type": "execute_result",
          "data": {
            "text/plain": [
              "0.5"
            ]
          },
          "metadata": {
            "tags": []
          },
          "execution_count": 4
        }
      ]
    },
    {
      "cell_type": "code",
      "metadata": {
        "colab": {
          "base_uri": "https://localhost:8080/"
        },
        "id": "hKopsTSyR728",
        "outputId": "9cd95767-5751-4367-faca-2c44debfa279"
      },
      "source": [
        "manhattan(users['Veronica'],users['Chan'])"
      ],
      "execution_count": 6,
      "outputs": [
        {
          "output_type": "execute_result",
          "data": {
            "text/plain": [
              "2.0"
            ]
          },
          "metadata": {
            "tags": []
          },
          "execution_count": 6
        }
      ]
    },
    {
      "cell_type": "code",
      "metadata": {
        "id": "0WfuNZfeSImH"
      },
      "source": [
        "# below is the function that finds the closest person and retuns a list with the closest person first\n",
        "\n",
        "def computeNearestNeighbor(username,users):\n",
        "  \"\"\" creates a sorted list based on the users distance to the username \"\"\"\n",
        "  distances = []\n",
        "  for user in users:\n",
        "      if user != username:\n",
        "          distance = manhattan(users[user],users[username])\n",
        "          distances.append((distance,user))\n",
        "    # sort on distance closest first\n",
        "  distances.sort()\n",
        "  return distances\n"
      ],
      "execution_count": 13,
      "outputs": []
    },
    {
      "cell_type": "code",
      "metadata": {
        "colab": {
          "base_uri": "https://localhost:8080/"
        },
        "id": "rsbb4cgeUAeK",
        "outputId": "158f0a48-1d4a-4068-b16d-f8e1451f6e8f"
      },
      "source": [
        "computeNearestNeighbor(\"Sam\",users)"
      ],
      "execution_count": 14,
      "outputs": [
        {
          "output_type": "execute_result",
          "data": {
            "text/plain": [
              "[(0.0, 'Chan'),\n",
              " (1.5, 'Angelica'),\n",
              " (2.0, 'Dan'),\n",
              " (2.0, 'Hailey'),\n",
              " (2.0, 'Veronica'),\n",
              " (2.5, 'Jordyn'),\n",
              " (3.0, 'Bill')]"
            ]
          },
          "metadata": {
            "tags": []
          },
          "execution_count": 14
        }
      ]
    },
    {
      "cell_type": "code",
      "metadata": {
        "colab": {
          "base_uri": "https://localhost:8080/"
        },
        "id": "GE9O1bpKUTyG",
        "outputId": "5a6addb3-b4fb-48f6-82f4-2156fa411bc3"
      },
      "source": [
        "computeNearestNeighbor(\"Bill\",users)"
      ],
      "execution_count": 15,
      "outputs": [
        {
          "output_type": "execute_result",
          "data": {
            "text/plain": [
              "[(0.5, 'Hailey'),\n",
              " (1.0, 'Dan'),\n",
              " (1.0, 'Jordyn'),\n",
              " (1.0, 'Veronica'),\n",
              " (1.5, 'Angelica'),\n",
              " (3.0, 'Chan'),\n",
              " (3.0, 'Sam')]"
            ]
          },
          "metadata": {
            "tags": []
          },
          "execution_count": 15
        }
      ]
    },
    {
      "cell_type": "code",
      "metadata": {
        "id": "_xeffE-fVFK4"
      },
      "source": [
        "# create a function that makes recommendations by finding the nearest neighbor\n",
        "\n",
        "def recommend(username,users):\n",
        "  #find nearestneighbor first\n",
        "  nearNeighb = computeNearestNeighbor(username,users)[0][1]\n",
        "  recommendations = []\n",
        "  # find bands neigbor rated that user didn't\n",
        "  neighborRatings = users[nearNeighb]\n",
        "  userRatings = users[username]\n",
        "  for artist in neighborRatings:\n",
        "    if not artist in userRatings:\n",
        "      recommendations.append((artist,neighborRatings[artist]))\n",
        "      # use function sorted for variety as sort is more effiecient\n",
        "    return sorted(recommendations,key = lambda artistTuple: artistTuple[1],reverse = True)"
      ],
      "execution_count": 26,
      "outputs": []
    },
    {
      "cell_type": "code",
      "metadata": {
        "colab": {
          "base_uri": "https://localhost:8080/"
        },
        "id": "SfgiScl9YnAg",
        "outputId": "42be5074-905f-4f8d-816c-f271fd934e32"
      },
      "source": [
        "## Lets see the recommendations\n",
        "\n",
        "recommend('Hailey', users)"
      ],
      "execution_count": 27,
      "outputs": [
        {
          "output_type": "execute_result",
          "data": {
            "text/plain": [
              "[('Blues Traveler', 3.5)]"
            ]
          },
          "metadata": {
            "tags": []
          },
          "execution_count": 27
        }
      ]
    },
    {
      "cell_type": "code",
      "metadata": {
        "colab": {
          "base_uri": "https://localhost:8080/"
        },
        "id": "VVXxjdrIY4dz",
        "outputId": "ad375457-4ad6-4c20-a0ef-8646a55415da"
      },
      "source": [
        "recommend('Veronica', users)"
      ],
      "execution_count": 28,
      "outputs": [
        {
          "output_type": "execute_result",
          "data": {
            "text/plain": [
              "[]"
            ]
          },
          "metadata": {
            "tags": []
          },
          "execution_count": 28
        }
      ]
    },
    {
      "cell_type": "markdown",
      "metadata": {
        "id": "E2stHVmsa1ZM"
      },
      "source": [
        ""
      ]
    },
    {
      "cell_type": "markdown",
      "metadata": {
        "id": "UGiABVmQaVUU"
      },
      "source": [
        "we see veronica returned an empty recommendation. lets improve the system to avoid such errors"
      ]
    },
    {
      "cell_type": "code",
      "metadata": {
        "id": "r7G3snlnaI9w"
      },
      "source": [
        ""
      ],
      "execution_count": null,
      "outputs": []
    }
  ]
}