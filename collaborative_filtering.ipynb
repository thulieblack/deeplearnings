{
  "nbformat": 4,
  "nbformat_minor": 0,
  "metadata": {
    "colab": {
      "name": "collaborative_filtering.ipynb",
      "provenance": [],
      "collapsed_sections": [],
      "authorship_tag": "ABX9TyOtQJs67JDhu4pJiOHDBHgv",
      "include_colab_link": true
    },
    "kernelspec": {
      "name": "python3",
      "display_name": "Python 3"
    },
    "language_info": {
      "name": "python"
    }
  },
  "cells": [
    {
      "cell_type": "markdown",
      "metadata": {
        "id": "view-in-github",
        "colab_type": "text"
      },
      "source": [
        "<a href=\"https://colab.research.google.com/github/thulieblack/deeplearnings/blob/main/collaborative_filtering.ipynb\" target=\"_parent\"><img src=\"https://colab.research.google.com/assets/colab-badge.svg\" alt=\"Open In Colab\"/></a>"
      ]
    },
    {
      "cell_type": "code",
      "metadata": {
        "id": "yEuXRlInKCqV"
      },
      "source": [
        "# python dict of all the people who made reviews on amazon popular bands\n",
        "\n",
        "users = {\"Angelica\": {\"Blues Traveler\": 3.5, \"Broken Bells\": 2.0, \"Norah Jones\": 4.5, \"Phoenix\": 5.0, \"Slightly Stoopid\": 1.5, \"The Strokes\": 2.5, \"Vampire Weekend\": 2.0},\n",
        "         \"Bill\":{\"Blues Traveler\": 2.0, \"Broken Bells\": 3.5, \"Deadmau5\": 4.0, \"Phoenix\": 2.0, \"Slightly Stoopid\": 3.5, \"Vampire Weekend\": 3.0},\n",
        "         \"Chan\": {\"Blues Traveler\": 5.0, \"Broken Bells\": 1.0, \"Deadmau5\": 1.0, \"Norah Jones\": 3.0, \"Phoenix\": 5, \"Slightly Stoopid\": 1.0},\n",
        "         \"Dan\": {\"Blues Traveler\": 3.0, \"Broken Bells\": 4.0, \"Deadmau5\": 4.5, \"Phoenix\": 3.0, \"Slightly Stoopid\": 4.5, \"The Strokes\": 4.0, \"Vampire Weekend\": 2.0},\n",
        "         \"Hailey\": {\"Broken Bells\": 4.0, \"Deadmau5\": 1.0, \"Norah Jones\": 4.0, \"The Strokes\": 4.0, \"Vampire Weekend\": 1.0},\n",
        "         \"Jordyn\":  {\"Broken Bells\": 4.5, \"Deadmau5\": 4.0, \"Norah Jones\": 5.0, \"Phoenix\": 5.0, \"Slightly Stoopid\": 4.5, \"The Strokes\": 4.0, \"Vampire Weekend\": 4.0},\n",
        "         \"Sam\": {\"Blues Traveler\": 5.0, \"Broken Bells\": 2.0, \"Norah Jones\": 3.0, \"Phoenix\": 5.0, \"Slightly Stoopid\": 4.0, \"The Strokes\": 5.0},\n",
        "         \"Veronica\": {\"Blues Traveler\": 3.0, \"Norah Jones\": 5.0, \"Phoenix\": 4.0, \"Slightly Stoopid\": 2.5, \"The Strokes\": 3.0}\n",
        "        }\n"
      ],
      "execution_count": 27,
      "outputs": []
    },
    {
      "cell_type": "code",
      "metadata": {
        "colab": {
          "base_uri": "https://localhost:8080/"
        },
        "id": "8HATcsIpQg-X",
        "outputId": "e2e2de55-0558-4fc7-e03b-d5783a36b7db"
      },
      "source": [
        "users[\"Hailey\"]"
      ],
      "execution_count": 28,
      "outputs": [
        {
          "output_type": "execute_result",
          "data": {
            "text/plain": [
              "{'Broken Bells': 4.0,\n",
              " 'Deadmau5': 1.0,\n",
              " 'Norah Jones': 4.0,\n",
              " 'The Strokes': 4.0,\n",
              " 'Vampire Weekend': 1.0}"
            ]
          },
          "metadata": {
            "tags": []
          },
          "execution_count": 28
        }
      ]
    },
    {
      "cell_type": "code",
      "metadata": {
        "id": "Bbg9F4QjQtLh"
      },
      "source": [
        "#below is the function that computes the manhattan distance\n",
        "\n",
        "def manhattan(rating1,rating2):\n",
        "  distance = 0\n",
        "  commonRatings = False \n",
        "  for key in rating1:\n",
        "      if key in rating2:\n",
        "          distance += abs(rating1[key] - rating2[key])\n",
        "          commonRatings = True\n",
        "  if commonRatings:\n",
        "       return distance\n",
        "  else:\n",
        "      return -1 #Indicates no ratings in common"
      ],
      "execution_count": 29,
      "outputs": []
    },
    {
      "cell_type": "code",
      "metadata": {
        "colab": {
          "base_uri": "https://localhost:8080/"
        },
        "id": "xqKl-owqRk8P",
        "outputId": "2e33f735-d2da-4f21-e78a-11ac51d128f1"
      },
      "source": [
        "#test the function\n",
        "manhattan(users['Hailey'],users['Jordyn'])"
      ],
      "execution_count": 30,
      "outputs": [
        {
          "output_type": "execute_result",
          "data": {
            "text/plain": [
              "7.5"
            ]
          },
          "metadata": {
            "tags": []
          },
          "execution_count": 30
        }
      ]
    },
    {
      "cell_type": "code",
      "metadata": {
        "colab": {
          "base_uri": "https://localhost:8080/"
        },
        "id": "hKopsTSyR728",
        "outputId": "cc112801-b275-4bd0-d2ad-15cf94d780e7"
      },
      "source": [
        "manhattan(users['Veronica'],users['Chan'])"
      ],
      "execution_count": 31,
      "outputs": [
        {
          "output_type": "execute_result",
          "data": {
            "text/plain": [
              "6.5"
            ]
          },
          "metadata": {
            "tags": []
          },
          "execution_count": 31
        }
      ]
    },
    {
      "cell_type": "code",
      "metadata": {
        "id": "0WfuNZfeSImH"
      },
      "source": [
        "# below is the function that finds the closest person and retuns a list with the closest person first\n",
        "\n",
        "def computeNearestNeighbor(username,users):\n",
        "  \"\"\" creates a sorted list based on the users distance to the username \"\"\"\n",
        "  distances = []\n",
        "  for user in users:\n",
        "      if user != username:\n",
        "          distance = manhattan(users[user],users[username])\n",
        "          distances.append((distance,user))\n",
        "    # sort on distance closest first\n",
        "  distances.sort()\n",
        "  return distances\n"
      ],
      "execution_count": 32,
      "outputs": []
    },
    {
      "cell_type": "code",
      "metadata": {
        "colab": {
          "base_uri": "https://localhost:8080/"
        },
        "id": "rsbb4cgeUAeK",
        "outputId": "7a120e2e-29e7-457c-8658-45cc39dacdfe"
      },
      "source": [
        "computeNearestNeighbor(\"Sam\",users)"
      ],
      "execution_count": 33,
      "outputs": [
        {
          "output_type": "execute_result",
          "data": {
            "text/plain": [
              "[(4.0, 'Chan'),\n",
              " (4.0, 'Hailey'),\n",
              " (6.0, 'Jordyn'),\n",
              " (7.5, 'Dan'),\n",
              " (8.0, 'Angelica'),\n",
              " (8.0, 'Bill'),\n",
              " (8.5, 'Veronica')]"
            ]
          },
          "metadata": {
            "tags": []
          },
          "execution_count": 33
        }
      ]
    },
    {
      "cell_type": "code",
      "metadata": {
        "colab": {
          "base_uri": "https://localhost:8080/"
        },
        "id": "GE9O1bpKUTyG",
        "outputId": "c0437b72-46d4-4d16-b099-2f1c0bf4c5c6"
      },
      "source": [
        "computeNearestNeighbor(\"Bill\",users)"
      ],
      "execution_count": 34,
      "outputs": [
        {
          "output_type": "execute_result",
          "data": {
            "text/plain": [
              "[(4.0, 'Veronica'),\n",
              " (5.0, 'Dan'),\n",
              " (5.5, 'Hailey'),\n",
              " (6.0, 'Jordyn'),\n",
              " (8.0, 'Sam'),\n",
              " (9.0, 'Angelica'),\n",
              " (14.0, 'Chan')]"
            ]
          },
          "metadata": {
            "tags": []
          },
          "execution_count": 34
        }
      ]
    },
    {
      "cell_type": "code",
      "metadata": {
        "id": "_xeffE-fVFK4"
      },
      "source": [
        "# create a function that makes recommendations by finding the nearest neighbor\n",
        "\n",
        "def recommend(username,users):\n",
        "  #find nearestneighbor first\n",
        "  nearest = computeNearestNeighbor(username, users)[0][1]\n",
        " \n",
        "  recommendations = []\n",
        "  # find bands neigbor rated that user didn't\n",
        "  neighborRatings = users[nearest]\n",
        "  userRatings = users[username]\n",
        "  for artist in neighborRatings:\n",
        "    if not artist in userRatings:\n",
        "      recommendations.append((artist, neighborRatings[artist]))\n",
        "      # use function sorted for variety as sort is more effiecient\n",
        "    return sorted(recommendations,key=lambda artistTuple: artistTuple[1], reverse = True)"
      ],
      "execution_count": 35,
      "outputs": []
    },
    {
      "cell_type": "code",
      "metadata": {
        "colab": {
          "base_uri": "https://localhost:8080/"
        },
        "id": "SfgiScl9YnAg",
        "outputId": "d86f859a-ed1a-4e37-e65f-4f69acc207eb"
      },
      "source": [
        "## Lets see the recommendations\n",
        "\n",
        "recommend('Hailey', users)"
      ],
      "execution_count": 36,
      "outputs": [
        {
          "output_type": "execute_result",
          "data": {
            "text/plain": [
              "[('Blues Traveler', 3.0)]"
            ]
          },
          "metadata": {
            "tags": []
          },
          "execution_count": 36
        }
      ]
    },
    {
      "cell_type": "code",
      "metadata": {
        "colab": {
          "base_uri": "https://localhost:8080/"
        },
        "id": "LFnH3hfb8UBo",
        "outputId": "2b04159d-2378-4d64-d738-4c4b99408a47"
      },
      "source": [
        "recommend('Bill', users)"
      ],
      "execution_count": 40,
      "outputs": [
        {
          "output_type": "execute_result",
          "data": {
            "text/plain": [
              "[]"
            ]
          },
          "metadata": {
            "tags": []
          },
          "execution_count": 40
        }
      ]
    },
    {
      "cell_type": "code",
      "metadata": {
        "colab": {
          "base_uri": "https://localhost:8080/"
        },
        "id": "VVXxjdrIY4dz",
        "outputId": "93546dc2-fbb1-4fcc-c56c-2922c7b10745"
      },
      "source": [
        "recommend('Veronica', users)"
      ],
      "execution_count": 38,
      "outputs": [
        {
          "output_type": "execute_result",
          "data": {
            "text/plain": [
              "[('Broken Bells', 4.0)]"
            ]
          },
          "metadata": {
            "tags": []
          },
          "execution_count": 38
        }
      ]
    },
    {
      "cell_type": "markdown",
      "metadata": {
        "id": "E2stHVmsa1ZM"
      },
      "source": [
        ""
      ]
    },
    {
      "cell_type": "markdown",
      "metadata": {
        "id": "UGiABVmQaVUU"
      },
      "source": [
        "we see Bil returned an empty recommendation. lets improve the system to avoid such errors using the Pearson correlation formula\n"
      ]
    },
    {
      "cell_type": "code",
      "metadata": {
        "id": "r7G3snlnaI9w"
      },
      "source": [
        "from math import sqrt"
      ],
      "execution_count": 41,
      "outputs": []
    },
    {
      "cell_type": "code",
      "metadata": {
        "id": "Gf11UH7lAbVx"
      },
      "source": [
        "def pearson(rating1, rating2):\n",
        "    sum_xy = 0\n",
        "    sum_x = 0\n",
        "    sum_y = 0\n",
        "    sum_x2 = 0\n",
        "    sum_y2 = 0\n",
        "    n = 0\n",
        "    for key in rating1:\n",
        "        if key in rating2:\n",
        "            n += 1\n",
        "            x = rating1[key]\n",
        "            y = rating2[key]\n",
        "            sum_xy += x * y\n",
        "            sum_x += x\n",
        "            sum_y += y\n",
        "            sum_x2 += pow(x, 2)\n",
        "            sum_y2 += pow(y, 2)\n",
        "    # now compute denominator\n",
        "    denominator = sqrt(sum_x2 - pow(sum_x, 2) / n) * sqrt(sum_y2 - pow(sum_y, 2) / n)\n",
        "    if denominator == 0:\n",
        "        return 0\n",
        "    else:\n",
        "        return (sum_xy - (sum_x * sum_y) / n) / denominator"
      ],
      "execution_count": 43,
      "outputs": []
    },
    {
      "cell_type": "code",
      "metadata": {
        "colab": {
          "base_uri": "https://localhost:8080/"
        },
        "id": "QrzbfIZ2JKvu",
        "outputId": "51fb96c7-525c-4c67-f1f1-0271bb845175"
      },
      "source": [
        "pearson(users[\"Bill\"],users[\"Angelica\"])"
      ],
      "execution_count": 48,
      "outputs": [
        {
          "output_type": "execute_result",
          "data": {
            "text/plain": [
              "-0.9040534990682699"
            ]
          },
          "metadata": {
            "tags": []
          },
          "execution_count": 48
        }
      ]
    },
    {
      "cell_type": "code",
      "metadata": {
        "colab": {
          "base_uri": "https://localhost:8080/"
        },
        "id": "B2eyejuRFTDJ",
        "outputId": "e35563df-fbac-48f2-efd5-3c02bd592ac7"
      },
      "source": [
        "pearson(users[\"Chan\"],users[\"Dan\"])"
      ],
      "execution_count": 49,
      "outputs": [
        {
          "output_type": "execute_result",
          "data": {
            "text/plain": [
              "-0.9630868246861539"
            ]
          },
          "metadata": {
            "tags": []
          },
          "execution_count": 49
        }
      ]
    },
    {
      "cell_type": "code",
      "metadata": {
        "id": "LXAxczK2IqR8"
      },
      "source": [
        ""
      ],
      "execution_count": null,
      "outputs": []
    }
  ]
}